{
 "cells": [
  {
   "cell_type": "markdown",
   "metadata": {},
   "source": [
    "## Image to be detected\n",
    "\n",
    "![Result](./images/test.jpg)"
   ]
  },
  {
   "cell_type": "code",
   "execution_count": null,
   "metadata": {
    "vscode": {
     "languageId": "plaintext"
    }
   },
   "outputs": [],
   "source": [
    "import cv2, torch\n",
    "\n",
    "# Load the YOLOv5 model from the Pytorch Hub (https://pytorch.org/hub/)\n",
    "yolov5 = torch.hub.load('ultralytics/yolov5', 'yolov5l', pretrained=True)\n",
    "\n",
    "# Load an image on internet\n",
    "image = cv2.imread('test.jpg')\n",
    "\n",
    "# Detect objects on the image using the YOLO\n",
    "results = yolov5(image)\n",
    "objects = results.xyxyn[0].detach().cpu().numpy()\n",
    "\n",
    "# Rescale object locations\n",
    "h, w, _ = image.shape\n",
    "objects[:,0:4] = objects[:,0:4] * [w, h, w, h]\n",
    "\n",
    "# Show the image with results\n",
    "classes = [ 'person', 'bicycle', 'car', 'motorcycle', 'airplane', 'bus', 'train', 'truck', 'boat', 'traffic light',\n",
    "            'fire hydrant', 'stop sign', 'parking meter', 'bench', 'bird', 'cat', 'dog', 'horse', 'sheep', 'cow',\n",
    "            'elephant', 'bear', 'zebra', 'giraffe', 'backpack', 'umbrella', 'handbag', 'tie', 'suitcase', 'frisbee',\n",
    "            'skis', 'snowboard', 'sports ball', 'kite', 'baseball bat', 'baseball glove', 'skateboard', 'surfboard', 'tennis racket', 'bottle',\n",
    "            'wine glass', 'cup', 'fork', 'knife', 'spoon', 'bowl', 'banana', 'apple', 'sandwich', 'orange',\n",
    "            'broccoli', 'carrot', 'hot dog', 'pizza', 'donut', 'cake', 'chair', 'couch', 'potted plant', 'bed',\n",
    "            'dining table', 'toilet', 'tv', 'laptop', 'mouse', 'remote', 'keyboard', 'cell phone',\n",
    "            'microwave', 'oven', 'toaster', 'sink', 'refrigerator', 'book', 'clock', 'vase', 'scissors', 'teddy bear', 'hair drier', 'toothbrush' ]\n",
    "for obj in objects:\n",
    "    if obj[-2] > 0.5: # More than 0.5 confidence\n",
    "        tl, br = obj[0:2].astype('int'), obj[2:4].astype('int')\n",
    "        cv2.rectangle(image, tuple(tl), tuple(br), (0, 0, 255), 2)\n",
    "        cv2.putText(image, f'{classes[int(obj[-1])]}: {obj[-2]:.2f}', tuple(tl + (-2, -4)), cv2.FONT_HERSHEY_DUPLEX, 0.4, (0, 0, 255))\n",
    "cv2.imshow('pytorch_yolo', image)\n",
    "cv2.waitKey(0)\n",
    "cv2.destroyAllWindows()"
   ]
  },
  {
   "cell_type": "markdown",
   "metadata": {},
   "source": [
    "## Result on Google Colab\n",
    "\n",
    "![Result](./images/screenshot.png)"
   ]
  }
 ],
 "metadata": {
  "language_info": {
   "name": "python"
  }
 },
 "nbformat": 4,
 "nbformat_minor": 2
}
